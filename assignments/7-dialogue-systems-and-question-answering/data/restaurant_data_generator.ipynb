{
 "cells": [
  {
   "cell_type": "code",
   "execution_count": 3,
   "metadata": {},
   "outputs": [
    {
     "name": "stderr",
     "output_type": "stream",
     "text": [
      "ic| df_restaurants_cuisine_random[df_restaurants_cuisine_random[\"Restaurant\"] == \"Italian\"]:          City Restaurant\n",
      "                                                                                             64     Geneva    Italian\n",
      "                                                                                             79     Munich    Italian\n",
      "                                                                                             105  Valencia    Italian\n"
     ]
    }
   ],
   "source": [
    "import random\n",
    "import pandas as pd\n",
    "from icecream import ic\n",
    "\n",
    "def generate_cute_street_names(n):\n",
    "    # Base parts for generating cute street names\n",
    "    street_name_parts = [\"Sunny\", \"Cherry\", \"Blossom\", \"Maple\", \"Peach\", \"Willow\", \"River\", \"Meadow\", \"Rainbow\", \"Butterfly\",\n",
    "                         \"Daisy\", \"Moonlight\", \"Star\", \"Clover\", \"Pine\", \"Rose\", \"Lily\", \"Jasmine\", \"Cedar\", \"Fairy\"]\n",
    "    street_types = [\"Lane\", \"Street\", \"Road\", \"Avenue\", \"Boulevard\", \"Way\", \"Path\", \"Drive\", \"Terrace\", \"Place\"]\n",
    "    \n",
    "    # Generate n cute street names\n",
    "    street_names = []\n",
    "    for _ in range(n):\n",
    "        name_part = random.choice(street_name_parts)\n",
    "        street_type = random.choice(street_types)\n",
    "        street_number = random.randint(1, 999)\n",
    "        street_names.append(f\"{name_part} {street_type} {street_number}\")\n",
    "    \n",
    "    return street_names\n",
    "\n",
    "cities = [\n",
    "    \"London\", \"Paris\", \"Berlin\", \"Madrid\", \"Rome\", \"Vienna\", \"Budapest\", \"Prague\", \"Warsaw\", \"Dublin\",\n",
    "    \"Brussels\", \"Amsterdam\", \"Moscow\", \"Lisbon\", \"Athens\", \"Oslo\", \"Helsinki\", \"Stockholm\", \"Copenhagen\", \"Reykjavik\",\n",
    "    \"Zurich\", \"Geneva\", \"Luxembourg\", \"Edinburgh\", \"Glasgow\", \"Barcelona\", \"Munich\", \"Frankfurt\", \"Milan\", \"Venice\",\n",
    "    \"Naples\", \"Turin\", \"Florence\", \"Palermo\", \"Catania\", \"Valencia\", \"Seville\", \"Porto\", \"Krakow\", \"Wroclaw\",\n",
    "    \"Bucharest\", \"Sofia\", \"Belgrade\", \"Sarajevo\", \"Zagreb\", \"Ljubljana\", \"Tallinn\", \"Riga\", \"Vilnius\", \"Istanbul\"\n",
    "]\n",
    "\n",
    "# Define a list of 50 different types of cuisines\n",
    "cuisines = [\n",
    "    \"Italian\", \"French\", \"Chinese\", \"Japanese\", \"Indian\", \"Thai\", \"Mexican\", \"Spanish\", \"Lebanese\", \"Turkish\",\n",
    "    \"Greek\", \"Brazilian\", \"Argentinian\", \"Vietnamese\", \"Korean\", \"American\", \"British\", \"German\", \"Russian\", \"Moroccan\",\n",
    "    \"Ethiopian\", \"Persian\", \"Malaysian\", \"Indonesian\", \"Cuban\", \"Peruvian\", \"Colombian\", \"South African\", \"Nigerian\", \"Egyptian\",\n",
    "    \"Belgian\", \"Polish\", \"Dutch\", \"Swedish\", \"Danish\", \"Finnish\", \"Norwegian\", \"Hungarian\", \"Czech\", \"Slovak\",\n",
    "    \"Romanian\", \"Bulgarian\", \"Austrian\", \"Swiss\", \"Ukrainian\", \"Belarusian\", \"Croatian\", \"Slovenian\", \"Latvian\", \"Lithuanian\"\n",
    "]\n",
    "\n",
    "# Shuffle the list of cuisines to randomly assign them to each city\n",
    "random.shuffle(cuisines)\n",
    "\n",
    "# Assign 3 random types of cuisine to each of the 50 cities\n",
    "restaurants_cuisine_random = []\n",
    "for city in cities:\n",
    "    # Pick 3 unique cuisines for each city\n",
    "    city_cuisines = random.sample(cuisines, 3)\n",
    "    for i, cuisine in enumerate(city_cuisines, start=1):\n",
    "        restaurants_cuisine_random.append({\n",
    "            \"City\": city,\n",
    "            \"Restaurant\": f\"{cuisine}\",\n",
    "        })\n",
    "\n",
    "# Creating a DataFrame with randomly assigned cuisines\n",
    "df_restaurants_cuisine_random = pd.DataFrame(restaurants_cuisine_random)\n",
    "\n",
    "#print rows where restaurant is Italian Kitchen\n",
    "ic(df_restaurants_cuisine_random[df_restaurants_cuisine_random[\"Restaurant\"] == \"Italian\"])\n",
    "\n",
    "total_restaurants = len(restaurants_cuisine_random)\n",
    "random_street_names = generate_cute_street_names(total_restaurants)\n",
    "\n",
    "# Add the street names to the DataFrame\n",
    "df_restaurants_cuisine_random['Street'] = random_street_names\n",
    "\n",
    "ratings = [round(random.uniform(3.0, 5.0), 1) for _ in range(total_restaurants)]\n",
    "\n",
    "# Add the ratings to the DataFrame\n",
    "df_restaurants_cuisine_random['Rating'] = ratings\n",
    "\n",
    "# Save the DataFrame with ratings to a new CSV file\n",
    "csv_file_path_with_ratings = \"restaurants.csv\"\n",
    "df_restaurants_cuisine_random.to_csv(csv_file_path_with_ratings, index=False)\n"
   ]
  },
  {
   "cell_type": "code",
   "execution_count": null,
   "metadata": {},
   "outputs": [],
   "source": []
  }
 ],
 "metadata": {
  "kernelspec": {
   "display_name": "hugo-work",
   "language": "python",
   "name": "python3"
  },
  "language_info": {
   "codemirror_mode": {
    "name": "ipython",
    "version": 3
   },
   "file_extension": ".py",
   "mimetype": "text/x-python",
   "name": "python",
   "nbconvert_exporter": "python",
   "pygments_lexer": "ipython3",
   "version": "3.11.4"
  }
 },
 "nbformat": 4,
 "nbformat_minor": 2
}
