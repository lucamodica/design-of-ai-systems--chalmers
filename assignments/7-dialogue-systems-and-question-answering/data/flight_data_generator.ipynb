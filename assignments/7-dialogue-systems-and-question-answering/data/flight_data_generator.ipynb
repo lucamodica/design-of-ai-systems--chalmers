{
 "cells": [
  {
   "cell_type": "code",
   "execution_count": 1,
   "metadata": {},
   "outputs": [
    {
     "data": {
      "text/plain": [
       "'flights.csv'"
      ]
     },
     "execution_count": 1,
     "metadata": {},
     "output_type": "execute_result"
    }
   ],
   "source": [
    "import pandas as pd\n",
    "import datetime\n",
    "# Generate flight data using the provided cities instead of countries\n",
    "\n",
    "# Provided list of cities in Europe\n",
    "cities = [\n",
    "    \"London\", \"Paris\", \"Berlin\", \"Madrid\", \"Rome\", \"Vienna\", \"Budapest\", \"Prague\", \"Warsaw\", \"Dublin\",\n",
    "    \"Brussels\", \"Amsterdam\", \"Moscow\", \"Lisbon\", \"Athens\", \"Oslo\", \"Helsinki\", \"Stockholm\", \"Copenhagen\", \"Reykjavik\",\n",
    "    \"Zurich\", \"Geneva\", \"Luxembourg\", \"Edinburgh\", \"Glasgow\", \"Barcelona\", \"Munich\", \"Frankfurt\", \"Milan\", \"Venice\",\n",
    "    \"Naples\", \"Turin\", \"Florence\", \"Palermo\", \"Catania\", \"Valencia\", \"Seville\", \"Porto\", \"Krakow\", \"Wroclaw\",\n",
    "    \"Bucharest\", \"Sofia\", \"Belgrade\", \"Sarajevo\", \"Zagreb\", \"Ljubljana\", \"Tallinn\", \"Riga\", \"Vilnius\", \"Istanbul\"\n",
    "]\n",
    "\n",
    "# Re-generate flight data\n",
    "flights_cities = []\n",
    "flight_number = 1\n",
    "\n",
    "for origin_city in cities:\n",
    "    for destination_city in cities:\n",
    "        if origin_city != destination_city:  # Avoid flights to the same city\n",
    "            for hour in range(6, 23, 4):  # Different hours, from 6 AM to 10 PM, every 4 hours\n",
    "                flight_time = datetime.time(hour=hour, minute=0)\n",
    "                flights_cities.append({\n",
    "                    \"FlightNumber\": f\"EU{flight_number:04d}\",\n",
    "                    \"Origin\": origin_city,\n",
    "                    \"Destination\": destination_city,\n",
    "                    \"Departure\": flight_time.strftime(\"%H:%M\"),\n",
    "                })\n",
    "                flight_number += 1\n",
    "\n",
    "# Convert to DataFrame\n",
    "df_flights_cities = pd.DataFrame(flights_cities)\n",
    "\n",
    "# Save the DataFrame to a CSV file\n",
    "csv_file_path_flights_cities = \"flights.csv\"\n",
    "df_flights_cities.to_csv(csv_file_path_flights_cities, index=False)\n",
    "\n",
    "csv_file_path_flights_cities\n"
   ]
  }
 ],
 "metadata": {
  "kernelspec": {
   "display_name": "hugo-work",
   "language": "python",
   "name": "python3"
  },
  "language_info": {
   "codemirror_mode": {
    "name": "ipython",
    "version": 3
   },
   "file_extension": ".py",
   "mimetype": "text/x-python",
   "name": "python",
   "nbconvert_exporter": "python",
   "pygments_lexer": "ipython3",
   "version": "3.12.2"
  }
 },
 "nbformat": 4,
 "nbformat_minor": 2
}
